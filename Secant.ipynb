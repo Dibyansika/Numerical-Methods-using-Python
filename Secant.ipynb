{
  "nbformat": 4,
  "nbformat_minor": 0,
  "metadata": {
    "colab": {
      "provenance": []
    },
    "kernelspec": {
      "name": "python3",
      "display_name": "Python 3"
    },
    "language_info": {
      "name": "python"
    }
  },
  "cells": [
    {
      "cell_type": "markdown",
      "source": [
        "Regular Falsi Method"
      ],
      "metadata": {
        "id": "zJF2Xdus2wEw"
      }
    },
    {
      "cell_type": "code",
      "execution_count": 13,
      "metadata": {
        "id": "iraycr0zwoux"
      },
      "outputs": [],
      "source": [
        "## Defining the function\n",
        "def f(x):\n",
        "    return x**2 - 2"
      ]
    },
    {
      "cell_type": "code",
      "source": [
        "f(0), f(1), f(2)\n",
        "## a=1, b=2"
      ],
      "metadata": {
        "colab": {
          "base_uri": "https://localhost:8080/"
        },
        "id": "hCGezucF0jnm",
        "outputId": "1ced4775-5006-47ec-d31e-2addc354d579"
      },
      "execution_count": 14,
      "outputs": [
        {
          "output_type": "execute_result",
          "data": {
            "text/plain": [
              "(-2, -1, 2)"
            ]
          },
          "metadata": {},
          "execution_count": 14
        }
      ]
    },
    {
      "cell_type": "code",
      "source": [
        "a=1\n",
        "b=2\n",
        "c=(a*f(b)-b*f(a))/(f(b)-f(a))\n",
        "count = 1\n",
        "while abs(a-b) > 0.0000001:\n",
        "    a=b\n",
        "    b=c\n",
        "    c=(a*f(b)-b*f(a))/(f(b)-f(a))\n",
        "    count+=1\n",
        "print(\"Therefore, value of √2 is approximately\", c)"
      ],
      "metadata": {
        "colab": {
          "base_uri": "https://localhost:8080/"
        },
        "id": "gclvsKio6jhs",
        "outputId": "8d652380-77ad-4529-c037-3ef085d70f52"
      },
      "execution_count": 15,
      "outputs": [
        {
          "output_type": "stream",
          "name": "stdout",
          "text": [
            "Therefore, value of √2 is approximately 1.414213562373095\n"
          ]
        }
      ]
    }
  ]
}
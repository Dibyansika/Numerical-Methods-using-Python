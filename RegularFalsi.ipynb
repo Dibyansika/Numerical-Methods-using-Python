{
  "nbformat": 4,
  "nbformat_minor": 0,
  "metadata": {
    "colab": {
      "provenance": []
    },
    "kernelspec": {
      "name": "python3",
      "display_name": "Python 3"
    },
    "language_info": {
      "name": "python"
    }
  },
  "cells": [
    {
      "cell_type": "markdown",
      "source": [
        "Regular Falsi Method"
      ],
      "metadata": {
        "id": "zJF2Xdus2wEw"
      }
    },
    {
      "cell_type": "code",
      "execution_count": 6,
      "metadata": {
        "id": "iraycr0zwoux"
      },
      "outputs": [],
      "source": [
        "## Defining the function\n",
        "def f(x):\n",
        "    return x**2 - 2"
      ]
    },
    {
      "cell_type": "code",
      "source": [
        "f(0), f(1), f(2)\n",
        "## a=1, b=2"
      ],
      "metadata": {
        "colab": {
          "base_uri": "https://localhost:8080/"
        },
        "id": "hCGezucF0jnm",
        "outputId": "405bdc0a-4e97-4fb3-cbea-a557ea2f24a8"
      },
      "execution_count": 7,
      "outputs": [
        {
          "output_type": "execute_result",
          "data": {
            "text/plain": [
              "(-2, -1, 2)"
            ]
          },
          "metadata": {},
          "execution_count": 7
        }
      ]
    },
    {
      "cell_type": "code",
      "source": [
        "a=1\n",
        "b=2\n",
        "c=(a*f(b)-b*f(a))/(f(b)-f(a))"
      ],
      "metadata": {
        "id": "8TIHk4pd0ofc"
      },
      "execution_count": 8,
      "outputs": []
    },
    {
      "cell_type": "code",
      "source": [
        "from prettytable import PrettyTable as pt"
      ],
      "metadata": {
        "id": "zbOSZsrQ0rFP"
      },
      "execution_count": 11,
      "outputs": []
    },
    {
      "cell_type": "code",
      "source": [
        "myTable = pt([\"Iteration\", \"a\", \"b\", \"c\", \"f(a)\", \"f(b)\", \"f(c)\"])\n",
        "myTable.add_row([0, a, b, c, f(a), f(b), f(c)])\n",
        "for i in range(1,11):\n",
        "    if f(a)*f(c) < 0:\n",
        "        b=c\n",
        "    else:\n",
        "        a=c\n",
        "    c=(a*f(b)-b*f(a))/(f(b)-f(a))\n",
        "    myTable.add_row([i, a, b, c, f(a), f(b), f(c)])\n",
        "print(myTable)"
      ],
      "metadata": {
        "colab": {
          "base_uri": "https://localhost:8080/"
        },
        "id": "U6gU08I30uhP",
        "outputId": "26e9fb76-6952-488a-8372-24a8e3e98756"
      },
      "execution_count": 12,
      "outputs": [
        {
          "output_type": "stream",
          "name": "stdout",
          "text": [
            "+-----------+--------------------+---+--------------------+-------------------------+------+-------------------------+\n",
            "| Iteration |         a          | b |         c          |           f(a)          | f(b) |           f(c)          |\n",
            "+-----------+--------------------+---+--------------------+-------------------------+------+-------------------------+\n",
            "|     0     |         1          | 2 | 1.3333333333333333 |            -1           |  2   |   -0.22222222222222232  |\n",
            "|     1     | 1.3333333333333333 | 2 |        1.4         |   -0.22222222222222232  |  2   |   -0.04000000000000026  |\n",
            "|     2     |        1.4         | 2 | 1.411764705882353  |   -0.04000000000000026  |  2   |  -0.006920415224913157  |\n",
            "|     3     | 1.411764705882353  | 2 | 1.4137931034482758 |  -0.006920415224913157  |  2   |  -0.0011890606420930094 |\n",
            "|     4     | 1.4137931034482758 | 2 | 1.414141414141414  |  -0.0011890606420930094 |  2   | -0.00020406081012214194 |\n",
            "|     5     | 1.414141414141414  | 2 | 1.4142011834319526 | -0.00020406081012214194 |  2   |  -3.501277966488914e-05 |\n",
            "|     6     | 1.4142011834319526 | 2 |  1.41421143847487  |  -3.501277966488914e-05 |  2   |  -6.007286838860537e-06 |\n",
            "|     7     |  1.41421143847487  | 2 | 1.4142131979695434 |  -6.007286838860537e-06 |  2   |  -1.030688757230891e-06 |\n",
            "|     8     | 1.4142131979695434 | 2 | 1.4142134998513232 |  -1.030688757230891e-06 |  2   | -1.7683827158165855e-07 |\n",
            "|     9     | 1.4142134998513232 | 2 | 1.4142135516460548 | -1.7683827158165855e-07 |  2   |  -3.034065154672305e-08 |\n",
            "|     10    | 1.4142135516460548 | 2 | 1.4142135605326258 |  -3.034065154672305e-08 |  2   | -5.2056330357430625e-09 |\n",
            "+-----------+--------------------+---+--------------------+-------------------------+------+-------------------------+\n"
          ]
        }
      ]
    },
    {
      "cell_type": "markdown",
      "source": [
        "Therefore, value of √2 is approximately 1.41455078125."
      ],
      "metadata": {
        "id": "wVLJlmVE0zSk"
      }
    }
  ]
}
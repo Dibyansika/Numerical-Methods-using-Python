{
 "cells": [
  {
   "cell_type": "markdown",
   "id": "2b35f0c8",
   "metadata": {},
   "source": [
    "### Gauss Elimination"
   ]
  },
  {
   "cell_type": "code",
   "execution_count": 4,
   "id": "1a73df18",
   "metadata": {},
   "outputs": [
    {
     "name": "stdout",
     "output_type": "stream",
     "text": [
      "\u001b[1mAnswer\u001b[0m\n",
      "[ 0.1768253   0.01269269 -0.02065405 -1.1826087 ]\n"
     ]
    }
   ],
   "source": [
    "import numpy as np\n",
    "a = np.array([[1.19, 2.11, -100, 1], [14.2, -0.122, 12.2, -1], [0, 100, -99.9, 1], [15.3, 0.11, -13.1, -1]])\n",
    "n = a.shape[0]\n",
    "b = np.array([1.12, 3.44, 2.15, 4.16])\n",
    "x = np.zeros(n)\n",
    "for k in range(n):\n",
    "    for i in range(k+1,n):\n",
    "        mult = a[i,k]/a[k,k]\n",
    "        for j in range(k,n):\n",
    "            a[i,j] = a[i,j] - mult*a[k,j]\n",
    "        b[i] = b[i] - mult*b[k]\n",
    "for i in range(n-1, -1, -1):\n",
    "    sum=b[i]\n",
    "    for j in range(i+1,n):\n",
    "        sum = sum - a[i,j]*x[j]\n",
    "    x[i] = sum/a[i,i]\n",
    "print('\\033[1m' + 'Answer' + '\\033[0m')\n",
    "print(x)"
   ]
  },
  {
   "cell_type": "code",
   "execution_count": null,
   "id": "57d7e63b",
   "metadata": {},
   "outputs": [],
   "source": []
  }
 ],
 "metadata": {
  "kernelspec": {
   "display_name": "Python 3 (ipykernel)",
   "language": "python",
   "name": "python3"
  },
  "language_info": {
   "codemirror_mode": {
    "name": "ipython",
    "version": 3
   },
   "file_extension": ".py",
   "mimetype": "text/x-python",
   "name": "python",
   "nbconvert_exporter": "python",
   "pygments_lexer": "ipython3",
   "version": "3.9.7"
  }
 },
 "nbformat": 4,
 "nbformat_minor": 5
}

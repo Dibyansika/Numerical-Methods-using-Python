{
  "nbformat": 4,
  "nbformat_minor": 0,
  "metadata": {
    "colab": {
      "provenance": []
    },
    "kernelspec": {
      "name": "python3",
      "display_name": "Python 3"
    },
    "language_info": {
      "name": "python"
    }
  },
  "cells": [
    {
      "cell_type": "markdown",
      "source": [
        "Newton method"
      ],
      "metadata": {
        "id": "yqehQS__8Ryu"
      }
    },
    {
      "cell_type": "code",
      "source": [
        "def f(x):\n",
        "    return x**2 -2\n",
        "def df(x):\n",
        "    return 2*x\n",
        "x0 = 2\n",
        "abs_err = 1\n",
        "count=0\n",
        "while abs(abs_err) > 0.0000001:\n",
        "    x1 = x0 - (f(x0)/df(x0))\n",
        "    abs_err= x1 - x0\n",
        "    x0 = x1\n",
        "    count+=1\n",
        "print(\"Therefore, value of √2 is approximately\", x0) "
      ],
      "metadata": {
        "colab": {
          "base_uri": "https://localhost:8080/"
        },
        "id": "KlMdeqFN7jln",
        "outputId": "f2c88881-b227-427e-cb70-38504dee7ced"
      },
      "execution_count": 16,
      "outputs": [
        {
          "output_type": "stream",
          "name": "stdout",
          "text": [
            "Therefore, value of √2 is approximately 1.4142135623730951\n"
          ]
        }
      ]
    }
  ]
}
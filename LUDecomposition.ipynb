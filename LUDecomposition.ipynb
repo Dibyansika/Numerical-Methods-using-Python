{
 "cells": [
  {
   "cell_type": "markdown",
   "id": "4017d0bd",
   "metadata": {},
   "source": [
    "### LU Decomposition"
   ]
  },
  {
   "cell_type": "code",
   "execution_count": 6,
   "id": "d96c347a",
   "metadata": {},
   "outputs": [
    {
     "name": "stdout",
     "output_type": "stream",
     "text": [
      "A=\n",
      " [[   1.19     2.11  -100.       1.   ]\n",
      " [  14.2     -0.122   12.2     -1.   ]\n",
      " [   0.     100.     -99.9      1.   ]\n",
      " [  15.3      0.11   -13.1     -1.   ]]\n",
      "\n",
      "b= [1.12 3.44 2.15 4.16]\n",
      "\n",
      "U=\n",
      " [[ 1.19000000e+00  2.11000000e+00 -1.00000000e+02  1.00000000e+00]\n",
      " [ 0.00000000e+00 -2.53001513e+01  1.20547731e+03 -1.29327731e+01]\n",
      " [ 0.00000000e+00  0.00000000e+00  4.66480397e+03 -5.01173747e+01]\n",
      " [ 0.00000000e+00  0.00000000e+00  0.00000000e+00 -2.04328072e-01]]\n",
      "\n",
      "L=\n",
      " [[ 1.00000000e+00  0.00000000e+00  0.00000000e+00  0.00000000e+00]\n",
      " [ 1.19327731e+01  1.00000000e+00  0.00000000e+00  0.00000000e+00]\n",
      " [ 0.00000000e+00 -3.95254554e+00  1.00000000e+00  0.00000000e+00]\n",
      " [ 1.28571429e+01  1.06792134e+00 -3.15997398e-03  1.00000000e+00]]\n",
      "\n",
      " y = [  1.12        -9.92470588 -37.07785196   0.24164015]\n",
      "\n",
      " x = [ 0.1768253   0.01269269 -0.02065405 -1.1826087 ]\n"
     ]
    }
   ],
   "source": [
    "import numpy as np\n",
    "A = np.array([[1.19, 2.11, -100, 1], [14.2, -0.122, 12.2, -1], [0, 100, -99.9, 1], [15.3, 0.11, -13.1, -1]])\n",
    "b = np.array([1.12, 3.44, 2.15, 4.16])\n",
    "n = len(b)\n",
    "L = np.identity(n)\n",
    "print(\"A=\\n\", A)\n",
    "print(\"\\nb=\", b)\n",
    "for k in range(n):\n",
    "    for i in range(k+1,n):\n",
    "        m = A[i,k]/A[k,k]\n",
    "        L[i,k]=m\n",
    "        for j in range(k,n):\n",
    "            A[i,j] = A[i,j] - m*A[k,j]\n",
    "print(\"\\nU=\\n\",A) \n",
    "print(\"\\nL=\\n\",L) \n",
    "\n",
    "# Forward Substitution\n",
    "y = np.zeros(n)\n",
    "y[0] = b[0]\n",
    "for i in range(1,n):\n",
    "    sum = b[i]\n",
    "    for j in range(0,i):\n",
    "        sum = sum - L[i,j]*y[j]\n",
    "    y[i] = sum\n",
    "print('\\n y =',y)\n",
    "\n",
    "# Backward Substitution\n",
    "x = np.zeros(n)\n",
    "x[n-1] = y[n-1]/A[n-1,n-1]\n",
    "for i in range(n-2,-1,-1):\n",
    "    sum = y[i]\n",
    "    for j in range(i+1,n):\n",
    "        sum = sum -A[i,j]*x[j]\n",
    "    x[i] = sum/A[i,i]\n",
    "print('\\n x =',x)"
   ]
  },
  {
   "cell_type": "code",
   "execution_count": null,
   "id": "b53ead1b",
   "metadata": {},
   "outputs": [],
   "source": []
  }
 ],
 "metadata": {
  "kernelspec": {
   "display_name": "Python 3 (ipykernel)",
   "language": "python",
   "name": "python3"
  },
  "language_info": {
   "codemirror_mode": {
    "name": "ipython",
    "version": 3
   },
   "file_extension": ".py",
   "mimetype": "text/x-python",
   "name": "python",
   "nbconvert_exporter": "python",
   "pygments_lexer": "ipython3",
   "version": "3.9.7"
  }
 },
 "nbformat": 4,
 "nbformat_minor": 5
}

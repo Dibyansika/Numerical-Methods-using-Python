{
  "nbformat": 4,
  "nbformat_minor": 0,
  "metadata": {
    "colab": {
      "provenance": []
    },
    "kernelspec": {
      "name": "python3",
      "display_name": "Python 3"
    },
    "language_info": {
      "name": "python"
    }
  },
  "cells": [
    {
      "cell_type": "code",
      "execution_count": 1,
      "metadata": {
        "id": "iraycr0zwoux"
      },
      "outputs": [],
      "source": [
        "## Defining the function\n",
        "def f(x):\n",
        "    return x**2 - 2"
      ]
    },
    {
      "cell_type": "code",
      "source": [
        "f(0), f(1), f(2)\n",
        "## a=1, b=2"
      ],
      "metadata": {
        "colab": {
          "base_uri": "https://localhost:8080/"
        },
        "id": "hCGezucF0jnm",
        "outputId": "d78f30e4-015f-4414-a568-edbcff00d336"
      },
      "execution_count": 2,
      "outputs": [
        {
          "output_type": "execute_result",
          "data": {
            "text/plain": [
              "(-2, -1, 2)"
            ]
          },
          "metadata": {},
          "execution_count": 2
        }
      ]
    },
    {
      "cell_type": "code",
      "source": [
        "a=1\n",
        "b=2\n",
        "c=(a+b)/2"
      ],
      "metadata": {
        "id": "8TIHk4pd0ofc"
      },
      "execution_count": 3,
      "outputs": []
    },
    {
      "cell_type": "code",
      "source": [
        "from prettytable import PrettyTable"
      ],
      "metadata": {
        "id": "zbOSZsrQ0rFP"
      },
      "execution_count": 4,
      "outputs": []
    },
    {
      "cell_type": "code",
      "source": [
        "myTable = PrettyTable([\"Iteration\", \"a\", \"b\", \"c\", \"f(a)\", \"f(b)\", \"f(c)\"])\n",
        "myTable.add_row([0, a, b, c, f(a), f(b), f(c)])\n",
        "for i in range(1,11):\n",
        "    if f(a)*f(c) < 0:\n",
        "        b=c\n",
        "    else:\n",
        "        a=c\n",
        "    c=(a+b)/2\n",
        "    myTable.add_row([i, a, b, c, f(a), f(b), f(c)])\n",
        "print(myTable)"
      ],
      "metadata": {
        "colab": {
          "base_uri": "https://localhost:8080/"
        },
        "id": "U6gU08I30uhP",
        "outputId": "c4fbe7c1-3374-48d5-ff46-1fb4eeb0e438"
      },
      "execution_count": 5,
      "outputs": [
        {
          "output_type": "stream",
          "name": "stdout",
          "text": [
            "+-----------+-----------+--------------+---------------+-------------------+-----------------------+-----------------------+\n",
            "| Iteration |     a     |      b       |       c       |        f(a)       |          f(b)         |          f(c)         |\n",
            "+-----------+-----------+--------------+---------------+-------------------+-----------------------+-----------------------+\n",
            "|     0     |     1     |      2       |      1.5      |         -1        |           2           |          0.25         |\n",
            "|     1     |     1     |     1.5      |      1.25     |         -1        |          0.25         |        -0.4375        |\n",
            "|     2     |    1.25   |     1.5      |     1.375     |      -0.4375      |          0.25         |       -0.109375       |\n",
            "|     3     |   1.375   |     1.5      |     1.4375    |     -0.109375     |          0.25         |       0.06640625      |\n",
            "|     4     |   1.375   |    1.4375    |    1.40625    |     -0.109375     |       0.06640625      |     -0.0224609375     |\n",
            "|     5     |  1.40625  |    1.4375    |    1.421875   |   -0.0224609375   |       0.06640625      |     0.021728515625    |\n",
            "|     6     |  1.40625  |   1.421875   |   1.4140625   |   -0.0224609375   |     0.021728515625    |   -0.00042724609375   |\n",
            "|     7     | 1.4140625 |   1.421875   |   1.41796875  | -0.00042724609375 |     0.021728515625    |   0.0106353759765625  |\n",
            "|     8     | 1.4140625 |  1.41796875  |  1.416015625  | -0.00042724609375 |   0.0106353759765625  |  0.005100250244140625 |\n",
            "|     9     | 1.4140625 | 1.416015625  |  1.4150390625 | -0.00042724609375 |  0.005100250244140625 | 0.0023355484008789062 |\n",
            "|     10    | 1.4140625 | 1.4150390625 | 1.41455078125 | -0.00042724609375 | 0.0023355484008789062 | 0.0009539127349853516 |\n",
            "+-----------+-----------+--------------+---------------+-------------------+-----------------------+-----------------------+\n"
          ]
        }
      ]
    },
    {
      "cell_type": "markdown",
      "source": [
        "Therefore, value of √2 is approximately 1.41455078125."
      ],
      "metadata": {
        "id": "wVLJlmVE0zSk"
      }
    }
  ]
}